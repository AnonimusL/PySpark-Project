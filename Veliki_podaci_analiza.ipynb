{
 "cells": [
  {
   "cell_type": "markdown",
   "metadata": {
    "application/vnd.databricks.v1+cell": {
     "cellMetadata": {
      "byteLimit": 2048000,
      "rowLimit": 10000
     },
     "inputWidgets": {},
     "nuid": "96816ed7-b08a-4ca3-abb9-f99880c3535d",
     "showTitle": false,
     "title": ""
    }
   },
   "source": [
    "\n",
    "# 2 - Data Vizualization and Analysis \n",
    "## 2.1 Hypotesis Testing \n",
    "For Analysis, I used different statistical test:\n",
    "- Pearson's correlation coefficient - the test statistics that measures the statistical relationship, or association, between two continuous variables. It is known as the best method of measuring the association between variables of interest because it is based on the method of covariance.  \n",
    "- T-test - an inferential statistic used to determine if there is a significant difference between the means of two groups and how they are related. \n",
    "- The one-way analysis of variance (ANOVA) - used to determine whether there are any statistically significant differences between the means of three or more independent (unrelated) groups. "
   ]
  },
  {
   "cell_type": "markdown",
   "metadata": {
    "application/vnd.databricks.v1+cell": {
     "cellMetadata": {
      "byteLimit": 2048000,
      "rowLimit": 10000
     },
     "inputWidgets": {},
     "nuid": "9cc6c5f7-c7bb-4438-b733-82b2c48f329a",
     "showTitle": false,
     "title": ""
    }
   },
   "source": [
    "## Load data"
   ]
  },
  {
   "cell_type": "code",
   "execution_count": 0,
   "metadata": {
    "application/vnd.databricks.v1+cell": {
     "cellMetadata": {
      "byteLimit": 2048000,
      "rowLimit": 10000
     },
     "inputWidgets": {},
     "nuid": "ecc9ddc9-cb1f-49d1-907d-573f4eb555ea",
     "showTitle": false,
     "title": ""
    }
   },
   "outputs": [
    {
     "output_type": "display_data",
     "data": {
      "application/vnd.databricks.v1+bamboolib_hint": "{\"pd.DataFrames\": [], \"version\": \"0.0.1\"}",
      "text/plain": []
     },
     "metadata": {},
     "output_type": "display_data"
    }
   ],
   "source": [
    "import pandas as pd\n",
    "from pyspark.sql import Row, Column\n",
    "from pyspark.sql.functions import *\n",
    "from pyspark.sql.types import *"
   ]
  },
  {
   "cell_type": "code",
   "execution_count": 0,
   "metadata": {
    "application/vnd.databricks.v1+cell": {
     "cellMetadata": {
      "byteLimit": 2048000,
      "rowLimit": 10000
     },
     "inputWidgets": {},
     "nuid": "67bb4741-5340-48d5-b1e0-21b0d6769823",
     "showTitle": false,
     "title": ""
    }
   },
   "outputs": [],
   "source": [
    "# define schemas\n",
    "\n",
    "# OI Games\n",
    "file_location_1 = \"dbfs:/FileStore/tables/oi_results-2.csv\"\n",
    "\n",
    "#schema \n",
    "schema_def_1 = StructType([StructField('NOC', StringType(), True),\n",
    "                     StructField('Games', StringType(), True),\n",
    "                     StructField('Gold', IntegerType(), True),\n",
    "                     StructField('Silver', IntegerType(), True),\n",
    "                     StructField('Bronze', IntegerType(), True),\n",
    "                     StructField('Total', IntegerType(), True),\n",
    "                     StructField('Rank', IntegerType(), True)\n",
    "])\n",
    "\n",
    "# Athletes\n",
    "file_location_1_1 = \"dbfs:/FileStore/tables/athletes_results.csv\"\n",
    "\n",
    "# schema\n",
    "schema_def_1_1 = StructType([StructField('Age', IntegerType(), True),\n",
    "                     StructField('Medal', StringType(), True),\n",
    "])\n",
    "\n",
    "# Diet\n",
    "file_location_2 = \"dbfs:/FileStore/tables/diet_results.csv\"\n",
    "\n",
    "#schema \n",
    "schema_def_2 = StructType([StructField('Gender', StringType(), True),\n",
    "                     StructField('Diet', StringType(), True),\n",
    "                     StructField('Weight', DoubleType(), True),\n",
    "                     StructField('Weight After', DoubleType(), True),\n",
    "                     StructField('Difference', DoubleType(), True),\n",
    "])\n",
    "\n",
    "# RENT\n",
    "file_location_3 = \"dbfs:/FileStore/tables/rent_results-2.csv\"\n",
    "\n",
    "#schema \n",
    "schema_def_3 = StructType([StructField('Price', DoubleType(), True),\n",
    "                     StructField('Bedrooms', DoubleType(), True),\n",
    "                     StructField('Bathrooms', DoubleType(), True),\n",
    "                     StructField('Sqft Living', IntegerType(), True),\n",
    "                     StructField('Floors', DoubleType(), True),\n",
    "                     StructField('Year built', IntegerType(), True),\n",
    "])"
   ]
  },
  {
   "cell_type": "code",
   "execution_count": 0,
   "metadata": {
    "application/vnd.databricks.v1+cell": {
     "cellMetadata": {
      "byteLimit": 2048000,
      "rowLimit": 10000
     },
     "inputWidgets": {},
     "nuid": "6482be4c-f067-47c9-b0ac-35c938b94601",
     "showTitle": false,
     "title": ""
    }
   },
   "outputs": [],
   "source": [
    "# import data from DBFS\n",
    "# data for OI Games\n",
    "oi_df = spark.read.csv(file_location_1, encoding=\"UTF-8\", header=True, schema=schema_def_1)\n",
    "# data for Athletes medals\n",
    "athl_df = spark.read.csv(file_location_1_1, encoding=\"UTF-8\", header=True, schema=schema_def_1_1)\n",
    "# data for Diet\n",
    "diet_df = spark.read.csv(file_location_2, encoding=\"UTF-8\", header=True, schema=schema_def_2)\n",
    "# data for RENT\n",
    "rent_df = spark.read.csv(file_location_3, encoding=\"UTF-8\", header=True, schema=schema_def_3)"
   ]
  },
  {
   "cell_type": "markdown",
   "metadata": {
    "application/vnd.databricks.v1+cell": {
     "cellMetadata": {
      "byteLimit": 2048000,
      "rowLimit": 10000
     },
     "inputWidgets": {},
     "nuid": "9557be2f-73e2-4d62-90e5-13f1f4c72236",
     "showTitle": false,
     "title": ""
    }
   },
   "source": [
    "## Data vizualization"
   ]
  },
  {
   "cell_type": "code",
   "execution_count": 0,
   "metadata": {
    "application/vnd.databricks.v1+cell": {
     "cellMetadata": {
      "byteLimit": 2048000,
      "rowLimit": 10000
     },
     "inputWidgets": {},
     "nuid": "08cb4ca6-426e-40f9-9aff-59627ee565b1",
     "showTitle": false,
     "title": ""
    }
   },
   "outputs": [
    {
     "output_type": "display_data",
     "data": {
      "text/html": [
       "<style scoped>\n",
       "  .table-result-container {\n",
       "    max-height: 300px;\n",
       "    overflow: auto;\n",
       "  }\n",
       "  table, th, td {\n",
       "    border: 1px solid black;\n",
       "    border-collapse: collapse;\n",
       "  }\n",
       "  th, td {\n",
       "    padding: 5px;\n",
       "  }\n",
       "  th {\n",
       "    text-align: left;\n",
       "  }\n",
       "</style><div class='table-result-container'><table class='table-result'><thead style='background-color: white'><tr><th>NOC</th><th>Gold</th><th>Silver</th><th>Bronze</th></tr></thead><tbody><tr><td>USA</td><td>1170</td><td>942</td><td>824</td></tr><tr><td>URS</td><td>471</td><td>373</td><td>353</td></tr><tr><td>GER</td><td>329</td><td>356</td><td>356</td></tr><tr><td>GBR</td><td>311</td><td>341</td><td>332</td></tr><tr><td>CHN</td><td>277</td><td>216</td><td>190</td></tr></tbody></table></div>"
      ]
     },
     "metadata": {
      "application/vnd.databricks.v1+output": {
       "addedWidgets": {},
       "aggData": [],
       "aggError": "",
       "aggOverflow": false,
       "aggSchema": [],
       "aggSeriesLimitReached": false,
       "aggType": "",
       "arguments": {},
       "columnCustomDisplayInfos": {},
       "data": [
        [
         "USA",
         1170,
         942,
         824
        ],
        [
         "URS",
         471,
         373,
         353
        ],
        [
         "GER",
         329,
         356,
         356
        ],
        [
         "GBR",
         311,
         341,
         332
        ],
        [
         "CHN",
         277,
         216,
         190
        ]
       ],
       "datasetInfos": [],
       "dbfsResultPath": null,
       "isJsonSchema": true,
       "metadata": {},
       "overflow": false,
       "plotOptions": {
        "customPlotOptions": {},
        "displayType": "table",
        "pivotAggregation": null,
        "pivotColumns": null,
        "xColumns": null,
        "yColumns": null
       },
       "removedWidgets": [],
       "schema": [
        {
         "metadata": "{}",
         "name": "NOC",
         "type": "\"string\""
        },
        {
         "metadata": "{}",
         "name": "Gold",
         "type": "\"long\""
        },
        {
         "metadata": "{}",
         "name": "Silver",
         "type": "\"long\""
        },
        {
         "metadata": "{}",
         "name": "Bronze",
         "type": "\"long\""
        }
       ],
       "type": "table"
      }
     },
     "output_type": "display_data"
    },
    {
     "output_type": "display_data",
     "data": {
      "text/plain": [
       "Databricks visualization. Run in Databricks to view."
      ]
     },
     "metadata": {
      "application/vnd.databricks.v1.subcommand+json": {
       "baseErrorDetails": null,
       "bindings": {},
       "collapsed": false,
       "command": "# 1 Show top 5 OI teams with most gold, silver and bronze medals\ndisplay(oi_df.select(\"NOC\",\"Gold\", \"Silver\", \"Bronze\").groupBy(\"NOC\").agg(sum(\"Gold\").alias(\"Gold\"), sum(\"Silver\").alias(\"Silver\"), sum(\"Bronze\").alias(\"Bronze\")).orderBy(desc(\"Gold\"), desc(\"Silver\"), desc(\"Bronze\")).head(5))\n\n# 2 Show male/female ratio when it comes to type of diet\nmale_diet = diet_df.select(\"Gender\", \"Diet\").where(col(\"Gender\") == \"M\").groupBy(\"Diet\").agg(count(\"Gender\").alias(\"Num\")).withColumn(\"Gender\", lit(\"M\"))\nfemale_diet = diet_df.select(\"Gender\", \"Diet\").where(col(\"Gender\") == \"F\").groupBy(\"Diet\").agg(count(\"Gender\").alias(\"Num\")).withColumn(\"Gender\", lit(\"F\"))\ndisplay(male_diet.union(female_diet))\n\n# 3 Show how many badrooms and bathrooms can you get for top 5 highest price\ndisplay(rent_df.select(\"Bedrooms\", \"Bathrooms\", \"Year built\", \"Price\").orderBy(col(\"Price\")).head(5))\n\n# 4 Show the average difference made by men and women with different diets\nmale_diet_diff = diet_df.select(\"Gender\", \"Diet\", \"Difference\").where(col(\"Gender\") == \"M\").groupBy(\"Diet\").agg(round(avg(\"Difference\"), 2).alias(\"Difference\")).withColumn(\"Gender\", lit(\"M\"))\nfemale_diet_diff = diet_df.select(\"Gender\", \"Diet\", \"Difference\").where(col(\"Gender\") == \"F\").groupBy(\"Diet\").agg(round(avg(\"Difference\"), 2).alias(\"Difference\")).withColumn(\"Gender\", lit(\"F\"))\ndisplay(male_diet_diff.union(female_diet_diff))\n\n# 5 Serbia OI medals and place over years\ndisplay(oi_df.select(\"Games\", \"Gold\", \"Silver\", \"Bronze\", \"Rank\").where(col(\"NOC\")==\"SRB\"))",
       "commandTitle": "Visualization 1",
       "commandType": "auto",
       "commandVersion": 0,
       "commentThread": [],
       "commentsVisible": false,
       "contentSha256Hex": null,
       "customPlotOptions": {
        "plotlyBar": [
         {
          "key": "grouped",
          "value": true
         },
         {
          "key": "stacked",
          "value": false
         },
         {
          "key": "100_stacked",
          "value": false
         }
        ]
       },
       "datasetPreviewNameToCmdIdMap": {},
       "diffDeletes": [],
       "diffInserts": [],
       "displayType": "plotlyBar",
       "error": null,
       "errorDetails": null,
       "errorSummary": null,
       "errorTraceType": null,
       "finishTime": 0,
       "globalVars": {},
       "guid": "",
       "height": "auto",
       "hideCommandCode": false,
       "hideCommandResult": false,
       "iPythonMetadata": null,
       "inputWidgets": {},
       "isLockedInExamMode": false,
       "latestUser": "a user",
       "latestUserId": null,
       "listResultMetadata": null,
       "metadata": {},
       "nuid": "2ebc137b-a6b4-4246-a448-fe786895f76a",
       "origId": 0,
       "parentHierarchy": [],
       "pivotAggregation": "sum",
       "pivotColumns": [],
       "position": 4.9375,
       "resultDbfsErrorMessage": null,
       "resultDbfsStatus": "INLINED_IN_TREE",
       "results": null,
       "showCommandTitle": false,
       "startTime": 0,
       "state": "input",
       "streamStates": {},
       "subcommandOptions": null,
       "submitTime": 0,
       "subtype": "tableResultSubCmd.visualization",
       "tableResultIndex": 0,
       "useConsistentColors": false,
       "version": "CommandV1",
       "width": "auto",
       "workflows": [],
       "xColumns": [
        "NOC"
       ],
       "yColumns": [
        "Bronze",
        "Silver",
        "Gold"
       ]
      }
     },
     "output_type": "display_data"
    },
    {
     "output_type": "display_data",
     "data": {
      "text/html": [
       "<style scoped>\n",
       "  .table-result-container {\n",
       "    max-height: 300px;\n",
       "    overflow: auto;\n",
       "  }\n",
       "  table, th, td {\n",
       "    border: 1px solid black;\n",
       "    border-collapse: collapse;\n",
       "  }\n",
       "  th, td {\n",
       "    padding: 5px;\n",
       "  }\n",
       "  th {\n",
       "    text-align: left;\n",
       "  }\n",
       "</style><div class='table-result-container'><table class='table-result'><thead style='background-color: white'><tr><th>Diet</th><th>Num</th><th>Gender</th></tr></thead><tbody><tr><td>B</td><td>13</td><td>M</td></tr><tr><td>C</td><td>12</td><td>M</td></tr><tr><td>A</td><td>10</td><td>M</td></tr><tr><td>B</td><td>14</td><td>F</td></tr><tr><td>C</td><td>15</td><td>F</td></tr><tr><td>A</td><td>14</td><td>F</td></tr></tbody></table></div>"
      ]
     },
     "metadata": {
      "application/vnd.databricks.v1+output": {
       "addedWidgets": {},
       "aggData": [],
       "aggError": "",
       "aggOverflow": false,
       "aggSchema": [],
       "aggSeriesLimitReached": false,
       "aggType": "",
       "arguments": {},
       "columnCustomDisplayInfos": {},
       "data": [
        [
         "B",
         13,
         "M"
        ],
        [
         "C",
         12,
         "M"
        ],
        [
         "A",
         10,
         "M"
        ],
        [
         "B",
         14,
         "F"
        ],
        [
         "C",
         15,
         "F"
        ],
        [
         "A",
         14,
         "F"
        ]
       ],
       "datasetInfos": [],
       "dbfsResultPath": null,
       "isJsonSchema": true,
       "metadata": {},
       "overflow": false,
       "plotOptions": {
        "customPlotOptions": {},
        "displayType": "table",
        "pivotAggregation": null,
        "pivotColumns": null,
        "xColumns": null,
        "yColumns": null
       },
       "removedWidgets": [],
       "schema": [
        {
         "metadata": "{}",
         "name": "Diet",
         "type": "\"string\""
        },
        {
         "metadata": "{}",
         "name": "Num",
         "type": "\"long\""
        },
        {
         "metadata": "{}",
         "name": "Gender",
         "type": "\"string\""
        }
       ],
       "type": "table"
      }
     },
     "output_type": "display_data"
    },
    {
     "output_type": "display_data",
     "data": {
      "text/plain": [
       "Databricks visualization. Run in Databricks to view."
      ]
     },
     "metadata": {
      "application/vnd.databricks.v1.subcommand+json": {
       "baseErrorDetails": null,
       "bindings": {},
       "collapsed": false,
       "command": "# 1 Show top 5 OI teams with most gold, silver and bronze medals\ndisplay(oi_df.select(\"NOC\",\"Gold\", \"Silver\", \"Bronze\").groupBy(\"NOC\").agg(sum(\"Gold\").alias(\"Gold\"), sum(\"Silver\").alias(\"Silver\"), sum(\"Bronze\").alias(\"Bronze\")).orderBy(desc(\"Gold\"), desc(\"Silver\"), desc(\"Bronze\")).head(5))\n\n# 2 Show male/female ratio when it comes to type of diet\nmale_diet = diet_df.select(\"Gender\", \"Diet\").where(col(\"Gender\") == \"M\").groupBy(\"Diet\").agg(count(\"Gender\").alias(\"Num\")).withColumn(\"Gender\", lit(\"M\"))\nfemale_diet = diet_df.select(\"Gender\", \"Diet\").where(col(\"Gender\") == \"F\").groupBy(\"Diet\").agg(count(\"Gender\").alias(\"Num\")).withColumn(\"Gender\", lit(\"F\"))\ndisplay(male_diet.union(female_diet))\n\n# 3 Show how many badrooms and bathrooms can you get for top 5 highest price\ndisplay(rent_df.select(\"Bedrooms\", \"Bathrooms\", \"Year built\", \"Price\").orderBy(col(\"Price\")).head(5))\n\n# 4 Show the average difference made by men and women with different diets\nmale_diet_diff = diet_df.select(\"Gender\", \"Diet\", \"Difference\").where(col(\"Gender\") == \"M\").groupBy(\"Diet\").agg(round(avg(\"Difference\"), 2).alias(\"Difference\")).withColumn(\"Gender\", lit(\"M\"))\nfemale_diet_diff = diet_df.select(\"Gender\", \"Diet\", \"Difference\").where(col(\"Gender\") == \"F\").groupBy(\"Diet\").agg(round(avg(\"Difference\"), 2).alias(\"Difference\")).withColumn(\"Gender\", lit(\"F\"))\ndisplay(male_diet_diff.union(female_diet_diff))\n\n# 5 Serbia OI medals and place over years\ndisplay(oi_df.select(\"Games\", \"Gold\", \"Silver\", \"Bronze\", \"Rank\").where(col(\"NOC\")==\"SRB\"))",
       "commandTitle": "Visualization 1",
       "commandType": "auto",
       "commandVersion": 0,
       "commentThread": [],
       "commentsVisible": false,
       "contentSha256Hex": null,
       "customPlotOptions": {
        "pieChart": [
         {
          "key": "donut",
          "value": true
         }
        ],
        "plotlyBar": [
         {
          "key": "grouped",
          "value": true
         },
         {
          "key": "stacked",
          "value": false
         },
         {
          "key": "100_stacked",
          "value": false
         }
        ]
       },
       "datasetPreviewNameToCmdIdMap": {},
       "diffDeletes": [],
       "diffInserts": [],
       "displayType": "pieChart",
       "error": null,
       "errorDetails": null,
       "errorSummary": null,
       "errorTraceType": null,
       "finishTime": 0,
       "globalVars": {},
       "guid": "",
       "height": "auto",
       "hideCommandCode": false,
       "hideCommandResult": false,
       "iPythonMetadata": null,
       "inputWidgets": {},
       "isLockedInExamMode": false,
       "latestUser": "a user",
       "latestUserId": null,
       "listResultMetadata": null,
       "metadata": {},
       "nuid": "ec5e407c-005f-409f-8e55-4a98a1d252f9",
       "origId": 0,
       "parentHierarchy": [],
       "pivotAggregation": "sum",
       "pivotColumns": [
        "Diet"
       ],
       "position": 4.9375,
       "resultDbfsErrorMessage": null,
       "resultDbfsStatus": "INLINED_IN_TREE",
       "results": null,
       "showCommandTitle": false,
       "startTime": 0,
       "state": "input",
       "streamStates": {},
       "subcommandOptions": null,
       "submitTime": 0,
       "subtype": "tableResultSubCmd.visualization",
       "tableResultIndex": 1,
       "useConsistentColors": false,
       "version": "CommandV1",
       "width": "auto",
       "workflows": [],
       "xColumns": [
        "Gender"
       ],
       "yColumns": [
        "Num"
       ]
      }
     },
     "output_type": "display_data"
    },
    {
     "output_type": "display_data",
     "data": {
      "text/html": [
       "<style scoped>\n",
       "  .table-result-container {\n",
       "    max-height: 300px;\n",
       "    overflow: auto;\n",
       "  }\n",
       "  table, th, td {\n",
       "    border: 1px solid black;\n",
       "    border-collapse: collapse;\n",
       "  }\n",
       "  th, td {\n",
       "    padding: 5px;\n",
       "  }\n",
       "  th {\n",
       "    text-align: left;\n",
       "  }\n",
       "</style><div class='table-result-container'><table class='table-result'><thead style='background-color: white'><tr><th>Bedrooms</th><th>Bathrooms</th><th>Year built</th><th>Price</th></tr></thead><tbody><tr><td>2.0</td><td>1.0</td><td>1942</td><td>7800.0</td></tr><tr><td>1.0</td><td>0.75</td><td>1912</td><td>80000.0</td></tr><tr><td>2.0</td><td>1.0</td><td>1918</td><td>83000.0</td></tr><tr><td>3.0</td><td>2.0</td><td>1990</td><td>83300.0</td></tr><tr><td>3.0</td><td>2.0</td><td>1964</td><td>83300.0</td></tr></tbody></table></div>"
      ]
     },
     "metadata": {
      "application/vnd.databricks.v1+output": {
       "addedWidgets": {},
       "aggData": [],
       "aggError": "",
       "aggOverflow": false,
       "aggSchema": [],
       "aggSeriesLimitReached": false,
       "aggType": "",
       "arguments": {},
       "columnCustomDisplayInfos": {},
       "data": [
        [
         2.0,
         1.0,
         1942,
         7800.0
        ],
        [
         1.0,
         0.75,
         1912,
         80000.0
        ],
        [
         2.0,
         1.0,
         1918,
         83000.0
        ],
        [
         3.0,
         2.0,
         1990,
         83300.0
        ],
        [
         3.0,
         2.0,
         1964,
         83300.0
        ]
       ],
       "datasetInfos": [],
       "dbfsResultPath": null,
       "isJsonSchema": true,
       "metadata": {},
       "overflow": false,
       "plotOptions": {
        "customPlotOptions": {},
        "displayType": "table",
        "pivotAggregation": null,
        "pivotColumns": null,
        "xColumns": null,
        "yColumns": null
       },
       "removedWidgets": [],
       "schema": [
        {
         "metadata": "{}",
         "name": "Bedrooms",
         "type": "\"double\""
        },
        {
         "metadata": "{}",
         "name": "Bathrooms",
         "type": "\"double\""
        },
        {
         "metadata": "{}",
         "name": "Year built",
         "type": "\"long\""
        },
        {
         "metadata": "{}",
         "name": "Price",
         "type": "\"double\""
        }
       ],
       "type": "table"
      }
     },
     "output_type": "display_data"
    },
    {
     "output_type": "display_data",
     "data": {
      "text/plain": [
       "Databricks visualization. Run in Databricks to view."
      ]
     },
     "metadata": {
      "application/vnd.databricks.v1.subcommand+json": {
       "baseErrorDetails": null,
       "bindings": {},
       "collapsed": false,
       "command": "# 1 Show top 5 OI teams with most gold, silver and bronze medals\ndisplay(oi_df.select(\"NOC\",\"Gold\", \"Silver\", \"Bronze\").groupBy(\"NOC\").agg(sum(\"Gold\").alias(\"Gold\"), sum(\"Silver\").alias(\"Silver\"), sum(\"Bronze\").alias(\"Bronze\")).orderBy(desc(\"Gold\"), desc(\"Silver\"), desc(\"Bronze\")).head(5))\n\n# 2 Show male/female ratio when it comes to type of diet\nmale_diet = diet_df.select(\"Gender\", \"Diet\").where(col(\"Gender\") == \"M\").groupBy(\"Diet\").agg(count(\"Gender\").alias(\"Num\")).withColumn(\"Gender\", lit(\"M\"))\nfemale_diet = diet_df.select(\"Gender\", \"Diet\").where(col(\"Gender\") == \"F\").groupBy(\"Diet\").agg(count(\"Gender\").alias(\"Num\")).withColumn(\"Gender\", lit(\"F\"))\ndisplay(male_diet.union(female_diet))\n\n# 3 Show how many badrooms and bathrooms can you get for top 5 highest price\ndisplay(rent_df.select(\"Bedrooms\", \"Bathrooms\", \"Year built\", \"Price\").orderBy(col(\"Price\")).head(5))\n\n# 4 Show the average difference made by men and women with different diets\nmale_diet_diff = diet_df.select(\"Gender\", \"Diet\", \"Difference\").where(col(\"Gender\") == \"M\").groupBy(\"Diet\").agg(round(avg(\"Difference\"), 2).alias(\"Difference\")).withColumn(\"Gender\", lit(\"M\"))\nfemale_diet_diff = diet_df.select(\"Gender\", \"Diet\", \"Difference\").where(col(\"Gender\") == \"F\").groupBy(\"Diet\").agg(round(avg(\"Difference\"), 2).alias(\"Difference\")).withColumn(\"Gender\", lit(\"F\"))\ndisplay(male_diet_diff.union(female_diet_diff))\n\n# 5 Serbia OI medals and place over years\ndisplay(oi_df.select(\"Games\", \"Gold\", \"Silver\", \"Bronze\", \"Rank\").where(col(\"NOC\")==\"SRB\"))",
       "commandTitle": "Visualization 1",
       "commandType": "auto",
       "commandVersion": 0,
       "commentThread": [],
       "commentsVisible": false,
       "contentSha256Hex": null,
       "customPlotOptions": {
        "areaChart": [
         {
          "key": "grouped",
          "value": true
         },
         {
          "key": "stacked",
          "value": false
         },
         {
          "key": "100_stacked",
          "value": false
         }
        ],
        "boxPlot": [],
        "mapPlot": [],
        "pieChart": [
         {
          "key": "donut",
          "value": true
         }
        ],
        "plotlyBar": [
         {
          "key": "grouped",
          "value": true
         },
         {
          "key": "stacked",
          "value": false
         },
         {
          "key": "100_stacked",
          "value": false
         }
        ],
        "plotlyLine": [
         {
          "key": "yRange",
          "value": ""
         },
         {
          "key": "showPoints",
          "value": false
         },
         {
          "key": "logScale",
          "value": false
         }
        ],
        "quantilePlot": [],
        "scatterPlot": [
         {
          "key": "loess",
          "value": false
         },
         {
          "key": "bandwidth",
          "value": "0.99"
         }
        ]
       },
       "datasetPreviewNameToCmdIdMap": {},
       "diffDeletes": [],
       "diffInserts": [],
       "displayType": "areaChart",
       "error": null,
       "errorDetails": null,
       "errorSummary": null,
       "errorTraceType": null,
       "finishTime": 0,
       "globalVars": {},
       "guid": "",
       "height": "auto",
       "hideCommandCode": false,
       "hideCommandResult": false,
       "iPythonMetadata": null,
       "inputWidgets": {},
       "isLockedInExamMode": false,
       "latestUser": "a user",
       "latestUserId": null,
       "listResultMetadata": null,
       "metadata": {},
       "nuid": "e1c4e2b5-73b5-4528-8430-a656aacaf939",
       "origId": 0,
       "parentHierarchy": [],
       "pivotAggregation": "sum",
       "pivotColumns": [],
       "position": 4.9375,
       "resultDbfsErrorMessage": null,
       "resultDbfsStatus": "INLINED_IN_TREE",
       "results": null,
       "showCommandTitle": false,
       "startTime": 0,
       "state": "input",
       "streamStates": {},
       "subcommandOptions": null,
       "submitTime": 0,
       "subtype": "tableResultSubCmd.visualization",
       "tableResultIndex": 2,
       "useConsistentColors": false,
       "version": "CommandV1",
       "width": "auto",
       "workflows": [],
       "xColumns": [
        "Price",
        "Year built"
       ],
       "yColumns": [
        "Bathrooms",
        "Bedrooms"
       ]
      }
     },
     "output_type": "display_data"
    },
    {
     "output_type": "display_data",
     "data": {
      "text/html": [
       "<style scoped>\n",
       "  .table-result-container {\n",
       "    max-height: 300px;\n",
       "    overflow: auto;\n",
       "  }\n",
       "  table, th, td {\n",
       "    border: 1px solid black;\n",
       "    border-collapse: collapse;\n",
       "  }\n",
       "  th, td {\n",
       "    padding: 5px;\n",
       "  }\n",
       "  th {\n",
       "    text-align: left;\n",
       "  }\n",
       "</style><div class='table-result-container'><table class='table-result'><thead style='background-color: white'><tr><th>Diet</th><th>Difference</th><th>Gender</th></tr></thead><tbody><tr><td>B</td><td>3.48</td><td>M</td></tr><tr><td>C</td><td>4.23</td><td>M</td></tr><tr><td>A</td><td>3.65</td><td>M</td></tr><tr><td>B</td><td>2.61</td><td>F</td></tr><tr><td>C</td><td>5.88</td><td>F</td></tr><tr><td>A</td><td>3.05</td><td>F</td></tr></tbody></table></div>"
      ]
     },
     "metadata": {
      "application/vnd.databricks.v1+output": {
       "addedWidgets": {},
       "aggData": [],
       "aggError": "",
       "aggOverflow": false,
       "aggSchema": [],
       "aggSeriesLimitReached": false,
       "aggType": "",
       "arguments": {},
       "columnCustomDisplayInfos": {},
       "data": [
        [
         "B",
         3.48,
         "M"
        ],
        [
         "C",
         4.23,
         "M"
        ],
        [
         "A",
         3.65,
         "M"
        ],
        [
         "B",
         2.61,
         "F"
        ],
        [
         "C",
         5.88,
         "F"
        ],
        [
         "A",
         3.05,
         "F"
        ]
       ],
       "datasetInfos": [],
       "dbfsResultPath": null,
       "isJsonSchema": true,
       "metadata": {},
       "overflow": false,
       "plotOptions": {
        "customPlotOptions": {},
        "displayType": "table",
        "pivotAggregation": null,
        "pivotColumns": null,
        "xColumns": null,
        "yColumns": null
       },
       "removedWidgets": [],
       "schema": [
        {
         "metadata": "{}",
         "name": "Diet",
         "type": "\"string\""
        },
        {
         "metadata": "{}",
         "name": "Difference",
         "type": "\"double\""
        },
        {
         "metadata": "{}",
         "name": "Gender",
         "type": "\"string\""
        }
       ],
       "type": "table"
      }
     },
     "output_type": "display_data"
    },
    {
     "output_type": "display_data",
     "data": {
      "text/plain": [
       "Databricks visualization. Run in Databricks to view."
      ]
     },
     "metadata": {
      "application/vnd.databricks.v1.subcommand+json": {
       "baseErrorDetails": null,
       "bindings": {},
       "collapsed": false,
       "command": "# 1 Show top 5 OI teams with most gold, silver and bronze medals\ndisplay(oi_df.select(\"NOC\",\"Gold\", \"Silver\", \"Bronze\").groupBy(\"NOC\").agg(sum(\"Gold\").alias(\"Gold\"), sum(\"Silver\").alias(\"Silver\"), sum(\"Bronze\").alias(\"Bronze\")).orderBy(desc(\"Gold\"), desc(\"Silver\"), desc(\"Bronze\")).head(5))\n\n# 2 Show male/female ratio when it comes to type of diet\nmale_diet = diet_df.select(\"Gender\", \"Diet\").where(col(\"Gender\") == \"M\").groupBy(\"Diet\").agg(count(\"Gender\").alias(\"Num\")).withColumn(\"Gender\", lit(\"M\"))\nfemale_diet = diet_df.select(\"Gender\", \"Diet\").where(col(\"Gender\") == \"F\").groupBy(\"Diet\").agg(count(\"Gender\").alias(\"Num\")).withColumn(\"Gender\", lit(\"F\"))\ndisplay(male_diet.union(female_diet))\n\n# 3 Show how many badrooms and bathrooms can you get for top 5 highest price\ndisplay(rent_df.select(\"Bedrooms\", \"Bathrooms\", \"Year built\", \"Price\").orderBy(col(\"Price\")).head(5))\n\n# 4 Show the average difference made by men and women with different diets\nmale_diet_diff = diet_df.select(\"Gender\", \"Diet\", \"Difference\").where(col(\"Gender\") == \"M\").groupBy(\"Diet\").agg(round(avg(\"Difference\"), 2).alias(\"Difference\")).withColumn(\"Gender\", lit(\"M\"))\nfemale_diet_diff = diet_df.select(\"Gender\", \"Diet\", \"Difference\").where(col(\"Gender\") == \"F\").groupBy(\"Diet\").agg(round(avg(\"Difference\"), 2).alias(\"Difference\")).withColumn(\"Gender\", lit(\"F\"))\ndisplay(male_diet_diff.union(female_diet_diff))\n\n# 5 Serbia OI medals and place over years\ndisplay(oi_df.select(\"Games\", \"Gold\", \"Silver\", \"Bronze\", \"Rank\").where(col(\"NOC\")==\"SRB\"))",
       "commandTitle": "Visualization 1",
       "commandType": "auto",
       "commandVersion": 0,
       "commentThread": [],
       "commentsVisible": false,
       "contentSha256Hex": null,
       "customPlotOptions": {
        "areaChart": [
         {
          "key": "grouped",
          "value": true
         },
         {
          "key": "stacked",
          "value": false
         },
         {
          "key": "100_stacked",
          "value": false
         }
        ],
        "pieChart": [
         {
          "key": "donut",
          "value": true
         }
        ],
        "plotlyBar": [
         {
          "key": "grouped",
          "value": true
         },
         {
          "key": "stacked",
          "value": false
         },
         {
          "key": "100_stacked",
          "value": false
         }
        ],
        "plotlyLine": [
         {
          "key": "yRange",
          "value": ""
         },
         {
          "key": "showPoints",
          "value": true
         },
         {
          "key": "logScale",
          "value": false
         }
        ]
       },
       "datasetPreviewNameToCmdIdMap": {},
       "diffDeletes": [],
       "diffInserts": [],
       "displayType": "plotlyLine",
       "error": null,
       "errorDetails": null,
       "errorSummary": null,
       "errorTraceType": null,
       "finishTime": 0,
       "globalVars": {},
       "guid": "",
       "height": "auto",
       "hideCommandCode": false,
       "hideCommandResult": false,
       "iPythonMetadata": null,
       "inputWidgets": {},
       "isLockedInExamMode": false,
       "latestUser": "a user",
       "latestUserId": null,
       "listResultMetadata": null,
       "metadata": {},
       "nuid": "a0412e78-9089-47e8-af57-a4c40aea9411",
       "origId": 0,
       "parentHierarchy": [],
       "pivotAggregation": "sum",
       "pivotColumns": [],
       "position": 4.9375,
       "resultDbfsErrorMessage": null,
       "resultDbfsStatus": "INLINED_IN_TREE",
       "results": null,
       "showCommandTitle": false,
       "startTime": 0,
       "state": "input",
       "streamStates": {},
       "subcommandOptions": null,
       "submitTime": 0,
       "subtype": "tableResultSubCmd.visualization",
       "tableResultIndex": 3,
       "useConsistentColors": false,
       "version": "CommandV1",
       "width": "auto",
       "workflows": [],
       "xColumns": [
        "Gender",
        "Diet"
       ],
       "yColumns": [
        "Difference"
       ]
      }
     },
     "output_type": "display_data"
    },
    {
     "output_type": "display_data",
     "data": {
      "text/html": [
       "<style scoped>\n",
       "  .table-result-container {\n",
       "    max-height: 300px;\n",
       "    overflow: auto;\n",
       "  }\n",
       "  table, th, td {\n",
       "    border: 1px solid black;\n",
       "    border-collapse: collapse;\n",
       "  }\n",
       "  th, td {\n",
       "    padding: 5px;\n",
       "  }\n",
       "  th {\n",
       "    text-align: left;\n",
       "  }\n",
       "</style><div class='table-result-container'><table class='table-result'><thead style='background-color: white'><tr><th>Games</th><th>Gold</th><th>Silver</th><th>Bronze</th><th>Rank</th></tr></thead><tbody><tr><td>2008 Summer</td><td>0</td><td>1</td><td>2</td><td>23</td></tr><tr><td>2012 Summer</td><td>1</td><td>1</td><td>2</td><td>22</td></tr><tr><td>2016 Summer</td><td>2</td><td>4</td><td>2</td><td>19</td></tr><tr><td>2020 Summer</td><td>3</td><td>1</td><td>5</td><td>21</td></tr></tbody></table></div>"
      ]
     },
     "metadata": {
      "application/vnd.databricks.v1+output": {
       "addedWidgets": {},
       "aggData": [],
       "aggError": "",
       "aggOverflow": false,
       "aggSchema": [],
       "aggSeriesLimitReached": false,
       "aggType": "",
       "arguments": {},
       "columnCustomDisplayInfos": {},
       "data": [
        [
         "2008 Summer",
         0,
         1,
         2,
         23
        ],
        [
         "2012 Summer",
         1,
         1,
         2,
         22
        ],
        [
         "2016 Summer",
         2,
         4,
         2,
         19
        ],
        [
         "2020 Summer",
         3,
         1,
         5,
         21
        ]
       ],
       "datasetInfos": [],
       "dbfsResultPath": null,
       "isJsonSchema": true,
       "metadata": {},
       "overflow": false,
       "plotOptions": {
        "customPlotOptions": {},
        "displayType": "table",
        "pivotAggregation": null,
        "pivotColumns": null,
        "xColumns": null,
        "yColumns": null
       },
       "removedWidgets": [],
       "schema": [
        {
         "metadata": "{}",
         "name": "Games",
         "type": "\"string\""
        },
        {
         "metadata": "{}",
         "name": "Gold",
         "type": "\"integer\""
        },
        {
         "metadata": "{}",
         "name": "Silver",
         "type": "\"integer\""
        },
        {
         "metadata": "{}",
         "name": "Bronze",
         "type": "\"integer\""
        },
        {
         "metadata": "{}",
         "name": "Rank",
         "type": "\"integer\""
        }
       ],
       "type": "table"
      }
     },
     "output_type": "display_data"
    },
    {
     "output_type": "display_data",
     "data": {
      "text/plain": [
       "Databricks visualization. Run in Databricks to view."
      ]
     },
     "metadata": {
      "application/vnd.databricks.v1.subcommand+json": {
       "baseErrorDetails": null,
       "bindings": {},
       "collapsed": false,
       "command": "# 1 Show top 5 OI teams with most gold, silver and bronze medals\ndisplay(oi_df.select(\"NOC\",\"Gold\", \"Silver\", \"Bronze\").groupBy(\"NOC\").agg(sum(\"Gold\").alias(\"Gold\"), sum(\"Silver\").alias(\"Silver\"), sum(\"Bronze\").alias(\"Bronze\")).orderBy(desc(\"Gold\"), desc(\"Silver\"), desc(\"Bronze\")).head(5))\n\n# 2 Show male/female ratio when it comes to type of diet\nmale_diet = diet_df.select(\"Gender\", \"Diet\").where(col(\"Gender\") == \"M\").groupBy(\"Diet\").agg(count(\"Gender\").alias(\"Num\")).withColumn(\"Gender\", lit(\"M\"))\nfemale_diet = diet_df.select(\"Gender\", \"Diet\").where(col(\"Gender\") == \"F\").groupBy(\"Diet\").agg(count(\"Gender\").alias(\"Num\")).withColumn(\"Gender\", lit(\"F\"))\ndisplay(male_diet.union(female_diet))\n\n# 3 Show how many badrooms and bathrooms can you get for top 5 highest price\ndisplay(rent_df.select(\"Bedrooms\", \"Bathrooms\", \"Year built\", \"Price\").orderBy(col(\"Price\")).head(5))\n\n# 4 Show the average difference made by men and women with different diets\nmale_diet_diff = diet_df.select(\"Gender\", \"Diet\", \"Difference\").where(col(\"Gender\") == \"M\").groupBy(\"Diet\").agg(round(avg(\"Difference\"), 2).alias(\"Difference\")).withColumn(\"Gender\", lit(\"M\"))\nfemale_diet_diff = diet_df.select(\"Gender\", \"Diet\", \"Difference\").where(col(\"Gender\") == \"F\").groupBy(\"Diet\").agg(round(avg(\"Difference\"), 2).alias(\"Difference\")).withColumn(\"Gender\", lit(\"F\"))\ndisplay(male_diet_diff.union(female_diet_diff))\n\n# 5 Serbia OI medals and place over years\ndisplay(oi_df.select(\"Games\", \"Gold\", \"Silver\", \"Bronze\", \"Rank\").where(col(\"NOC\")==\"SRB\"))",
       "commandTitle": "Visualization 1",
       "commandType": "auto",
       "commandVersion": 0,
       "commentThread": [],
       "commentsVisible": false,
       "contentSha256Hex": null,
       "customPlotOptions": {
        "plotlyBar": [
         {
          "key": "grouped",
          "value": true
         },
         {
          "key": "stacked",
          "value": false
         },
         {
          "key": "100_stacked",
          "value": false
         }
        ]
       },
       "datasetPreviewNameToCmdIdMap": {},
       "diffDeletes": [],
       "diffInserts": [],
       "displayType": "plotlyBar",
       "error": null,
       "errorDetails": null,
       "errorSummary": null,
       "errorTraceType": null,
       "finishTime": 0,
       "globalVars": {},
       "guid": "",
       "height": "auto",
       "hideCommandCode": false,
       "hideCommandResult": false,
       "iPythonMetadata": null,
       "inputWidgets": {},
       "isLockedInExamMode": false,
       "latestUser": "a user",
       "latestUserId": null,
       "listResultMetadata": null,
       "metadata": {},
       "nuid": "506cac47-c418-4507-b93b-dce5adc24765",
       "origId": 0,
       "parentHierarchy": [],
       "pivotAggregation": "sum",
       "pivotColumns": [],
       "position": 4.9375,
       "resultDbfsErrorMessage": null,
       "resultDbfsStatus": "INLINED_IN_TREE",
       "results": null,
       "showCommandTitle": false,
       "startTime": 0,
       "state": "input",
       "streamStates": {},
       "subcommandOptions": null,
       "submitTime": 0,
       "subtype": "tableResultSubCmd.visualization",
       "tableResultIndex": 4,
       "useConsistentColors": false,
       "version": "CommandV1",
       "width": "auto",
       "workflows": [],
       "xColumns": [
        "Games",
        "Rank"
       ],
       "yColumns": [
        "Bronze",
        "Gold",
        "Silver"
       ]
      }
     },
     "output_type": "display_data"
    }
   ],
   "source": [
    "# 1 Show top 5 OI teams with most gold, silver and bronze medals\n",
    "display(oi_df.select(\"NOC\",\"Gold\", \"Silver\", \"Bronze\").groupBy(\"NOC\").agg(sum(\"Gold\").alias(\"Gold\"), sum(\"Silver\").alias(\"Silver\"), sum(\"Bronze\").alias(\"Bronze\")).orderBy(desc(\"Gold\"), desc(\"Silver\"), desc(\"Bronze\")).head(5))\n",
    "\n",
    "# 2 Show male/female ratio when it comes to type of diet\n",
    "male_diet = diet_df.select(\"Gender\", \"Diet\").where(col(\"Gender\") == \"M\").groupBy(\"Diet\").agg(count(\"Gender\").alias(\"Num\")).withColumn(\"Gender\", lit(\"M\"))\n",
    "female_diet = diet_df.select(\"Gender\", \"Diet\").where(col(\"Gender\") == \"F\").groupBy(\"Diet\").agg(count(\"Gender\").alias(\"Num\")).withColumn(\"Gender\", lit(\"F\"))\n",
    "display(male_diet.union(female_diet))\n",
    "\n",
    "# 3 Show how many badrooms and bathrooms can you get for top 5 highest price\n",
    "display(rent_df.select(\"Bedrooms\", \"Bathrooms\", \"Year built\", \"Price\").orderBy(col(\"Price\")).head(5))\n",
    "\n",
    "# 4 Show the average difference made by men and women with different diets\n",
    "male_diet_diff = diet_df.select(\"Gender\", \"Diet\", \"Difference\").where(col(\"Gender\") == \"M\").groupBy(\"Diet\").agg(round(avg(\"Difference\"), 2).alias(\"Difference\")).withColumn(\"Gender\", lit(\"M\"))\n",
    "female_diet_diff = diet_df.select(\"Gender\", \"Diet\", \"Difference\").where(col(\"Gender\") == \"F\").groupBy(\"Diet\").agg(round(avg(\"Difference\"), 2).alias(\"Difference\")).withColumn(\"Gender\", lit(\"F\"))\n",
    "display(male_diet_diff.union(female_diet_diff))\n",
    "\n",
    "# 5 Serbia OI medals and place over years\n",
    "display(oi_df.select(\"Games\", \"Gold\", \"Silver\", \"Bronze\", \"Rank\").where(col(\"NOC\")==\"SRB\"))"
   ]
  },
  {
   "cell_type": "markdown",
   "metadata": {
    "application/vnd.databricks.v1+cell": {
     "cellMetadata": {},
     "inputWidgets": {},
     "nuid": "18963b02-a0b2-45ed-b467-029b979c9310",
     "showTitle": false,
     "title": ""
    }
   },
   "source": [
    "## Data analysis"
   ]
  },
  {
   "cell_type": "code",
   "execution_count": 0,
   "metadata": {
    "application/vnd.databricks.v1+cell": {
     "cellMetadata": {},
     "inputWidgets": {},
     "nuid": "bd82bb99-1479-4d5c-be10-8c36df0f1d44",
     "showTitle": false,
     "title": ""
    }
   },
   "outputs": [
    {
     "output_type": "display_data",
     "data": {
      "text/html": [
       "<style scoped>\n",
       "  .ansiout {\n",
       "    display: block;\n",
       "    unicode-bidi: embed;\n",
       "    white-space: pre-wrap;\n",
       "    word-wrap: break-word;\n",
       "    word-break: break-all;\n",
       "    font-family: \"Menlo\", \"Monaco\", \"Consolas\", \"Ubuntu Mono\", \"Source Code Pro\", monospace;\n",
       "    font-size: 13px;\n",
       "    color: #555;\n",
       "    margin-left: 4px;\n",
       "    line-height: 19px;\n",
       "  }\n",
       "</style>"
      ]
     },
     "metadata": {
      "application/vnd.databricks.v1+output": {
       "arguments": {},
       "data": "",
       "errorSummary": "Command skipped",
       "errorTraceType": "html",
       "metadata": {},
       "type": "ipynbError"
      }
     },
     "output_type": "display_data"
    }
   ],
   "source": [
    "from pyspark.mllib.stat import Statistics\n",
    "from pyspark.ml.stat import Correlation\n",
    "from pyspark.ml.feature import VectorAssembler"
   ]
  },
  {
   "cell_type": "markdown",
   "metadata": {
    "application/vnd.databricks.v1+cell": {
     "cellMetadata": {},
     "inputWidgets": {},
     "nuid": "777b0329-8ca4-4aed-b7b5-f9e8338eebac",
     "showTitle": false,
     "title": ""
    }
   },
   "source": [
    "### Pearson's correlation test\n",
    "The Product Moment Correlation Coefficient (PMCC), or r, is a measure of how strongly related 2 variables are\n",
    "<br>\n",
    "Sample size 4600, significant level 0.05\n",
    "<br>\n",
    "The hypothesis is one-tailed (right) since we are only testing for positive correlation\n",
    "<br>\n",
    "The corresponding critical correlation value r_c for a significance level of α=0.05, for a right-tailed test is: r_c = 0.024\n",
    "<br>\n",
    "Observe that in this case, the null hypothesis is rejected if |r| > r_c = 0.024 "
   ]
  },
  {
   "cell_type": "markdown",
   "metadata": {
    "application/vnd.databricks.v1+cell": {
     "cellMetadata": {},
     "inputWidgets": {},
     "nuid": "981e0692-d803-46d0-bb8c-89f37131ab3b",
     "showTitle": false,
     "title": ""
    }
   },
   "source": [
    "#### 1 \n",
    "Null Hypotesis: Number of bathrooms and floors do not correlate with year when house is built \n",
    "<br>\n",
    "Alternate Hypotesis: Number of bathrooms and floors correlate with the year when house is built \n",
    "<br>\n",
    "Output: confusion matrix with calculated PMCCs (r)\n",
    "<br>\n",
    "The absolute value of the PMCCs are 0.489, 0.464, 0.467, which is larger than 0.024. Since the PMCCs are larger than the critical value at the 5% level of significance, we can reach a conclusion.\n",
    "<br>\n",
    "Conclusion: Since the PMCCs are larger than the critical value, we choose to reject the null hypothesis. We can conclude that there is significant evidence to support the claim that number of bathrooms and floors\n",
    "are in correlation with the year when house is built"
   ]
  },
  {
   "cell_type": "code",
   "execution_count": 0,
   "metadata": {
    "application/vnd.databricks.v1+cell": {
     "cellMetadata": {
      "implicitDf": true
     },
     "inputWidgets": {},
     "nuid": "b5f66379-6f7f-42ec-8e82-d0e0926a1721",
     "showTitle": false,
     "title": ""
    }
   },
   "outputs": [
    {
     "output_type": "display_data",
     "data": {
      "text/html": [
       "<style scoped>\n",
       "  .ansiout {\n",
       "    display: block;\n",
       "    unicode-bidi: embed;\n",
       "    white-space: pre-wrap;\n",
       "    word-wrap: break-word;\n",
       "    word-break: break-all;\n",
       "    font-family: \"Menlo\", \"Monaco\", \"Consolas\", \"Ubuntu Mono\", \"Source Code Pro\", monospace;\n",
       "    font-size: 13px;\n",
       "    color: #555;\n",
       "    margin-left: 4px;\n",
       "    line-height: 19px;\n",
       "  }\n",
       "</style>"
      ]
     },
     "metadata": {
      "application/vnd.databricks.v1+output": {
       "arguments": {},
       "data": "",
       "errorSummary": "Command skipped",
       "errorTraceType": "html",
       "metadata": {},
       "type": "ipynbError"
      }
     },
     "output_type": "display_data"
    }
   ],
   "source": [
    "corr_analysis_df = rent_df.select(\"Bathrooms\", \"Floors\", \"Year built\")\n",
    "vector_col = \"col-features\"\n",
    "assembler = VectorAssembler(inputCols=corr_analysis_df.columns, outputCol=vector_col)\n",
    "df_vector = assembler.transform(corr_analysis_df).select(vector_col)\n",
    "matrix = Correlation.corr(df_vector, vector_col).collect()[0][0]\n",
    "corr_matrix = matrix.toArray().tolist()\n",
    "\n",
    "colums = ['Bathrooms', 'Floors', 'Year built']\n",
    "df_corr = spark.createDataFrame(corr_matrix, colums)\n",
    "df_corr.show()"
   ]
  },
  {
   "cell_type": "markdown",
   "metadata": {
    "application/vnd.databricks.v1+cell": {
     "cellMetadata": {},
     "inputWidgets": {},
     "nuid": "c8cd293b-9c0e-476e-9ed6-b572e782c55d",
     "showTitle": false,
     "title": ""
    }
   },
   "source": [
    "#### 2\n",
    "Null Hypotesis: It is not important for the price when house is built\n",
    "<br>\n",
    "Alternate Hypotesis: It is important for the price when house is built\n",
    "<br>\n",
    "Output: confusion matrix with calculated PMCC (r)\n",
    "<br>\n",
    "The absolute value of the PMCC is 0.022 which is NOT larger than 0.024. Since the PMCC is NOT larger than the critical value at the 5% level of significance, we can reach a conclusion.\n",
    "<br>\n",
    "Conclusion: Since the PMCC is NOT larger than the critical value, we choose to accept the null hypothesis. We can conclude that there is no significant evidence to support the claim that it is important when house is built for pricing "
   ]
  },
  {
   "cell_type": "code",
   "execution_count": 0,
   "metadata": {
    "application/vnd.databricks.v1+cell": {
     "cellMetadata": {},
     "inputWidgets": {},
     "nuid": "4eee4e6c-f3b0-4fc2-a6b7-08321c25aadd",
     "showTitle": false,
     "title": ""
    }
   },
   "outputs": [
    {
     "output_type": "display_data",
     "data": {
      "text/html": [
       "<style scoped>\n",
       "  .ansiout {\n",
       "    display: block;\n",
       "    unicode-bidi: embed;\n",
       "    white-space: pre-wrap;\n",
       "    word-wrap: break-word;\n",
       "    word-break: break-all;\n",
       "    font-family: \"Menlo\", \"Monaco\", \"Consolas\", \"Ubuntu Mono\", \"Source Code Pro\", monospace;\n",
       "    font-size: 13px;\n",
       "    color: #555;\n",
       "    margin-left: 4px;\n",
       "    line-height: 19px;\n",
       "  }\n",
       "</style>"
      ]
     },
     "metadata": {
      "application/vnd.databricks.v1+output": {
       "arguments": {},
       "data": "",
       "errorSummary": "Command skipped",
       "errorTraceType": "html",
       "metadata": {},
       "type": "ipynbError"
      }
     },
     "output_type": "display_data"
    }
   ],
   "source": [
    "corr_analysis_df = rent_df.select(\"Year built\", \"Price\")\n",
    "vector_col = \"col-features\"\n",
    "assembler = VectorAssembler(inputCols=corr_analysis_df.columns, outputCol=vector_col)\n",
    "df_vector = assembler.transform(corr_analysis_df).select(vector_col)\n",
    "matrix = Correlation.corr(df_vector, vector_col).collect()[0][0]\n",
    "corr_matrix = matrix.toArray().tolist()\n",
    "\n",
    "colums = ['Year built', 'Price']\n",
    "df_corr = spark.createDataFrame(corr_matrix, colums)\n",
    "df_corr.show()"
   ]
  },
  {
   "cell_type": "code",
   "execution_count": 0,
   "metadata": {
    "application/vnd.databricks.v1+cell": {
     "cellMetadata": {},
     "inputWidgets": {},
     "nuid": "db9631f6-bb4a-42ca-8a3c-0d48af932331",
     "showTitle": false,
     "title": ""
    }
   },
   "outputs": [
    {
     "output_type": "display_data",
     "data": {
      "text/html": [
       "<style scoped>\n",
       "  .ansiout {\n",
       "    display: block;\n",
       "    unicode-bidi: embed;\n",
       "    white-space: pre-wrap;\n",
       "    word-wrap: break-word;\n",
       "    word-break: break-all;\n",
       "    font-family: \"Menlo\", \"Monaco\", \"Consolas\", \"Ubuntu Mono\", \"Source Code Pro\", monospace;\n",
       "    font-size: 13px;\n",
       "    color: #555;\n",
       "    margin-left: 4px;\n",
       "    line-height: 19px;\n",
       "  }\n",
       "</style>"
      ]
     },
     "metadata": {
      "application/vnd.databricks.v1+output": {
       "arguments": {},
       "data": "",
       "errorSummary": "Command skipped",
       "errorTraceType": "html",
       "metadata": {},
       "type": "ipynbError"
      }
     },
     "output_type": "display_data"
    }
   ],
   "source": [
    "from scipy import stats"
   ]
  },
  {
   "cell_type": "markdown",
   "metadata": {
    "application/vnd.databricks.v1+cell": {
     "cellMetadata": {},
     "inputWidgets": {},
     "nuid": "5a20c89b-e5cf-4697-b1f9-18dc7e353834",
     "showTitle": false,
     "title": ""
    }
   },
   "source": [
    "### T-test\n",
    "#### 3\n",
    "Test the hypotesis - Is the average age of Gold medal winners and No medal winners same\n",
    "<br>\n",
    "First use groupby to check the mean difference\n",
    "<br>\n",
    "Null hypotesis: there is no significant difference in the average age of gold medal winners and no medal winners\n",
    "<br>\n",
    "Alternate hypotesis: there is significant difference in the average age of gold medal winners and no medal winners\n",
    "<br>\n",
    "Output: pvalue=0.12\n",
    "<br>\n",
    "Conclusion: Since pvalue is grater than 0.05 fail to reject the null hypotesis and reject Alternate"
   ]
  },
  {
   "cell_type": "code",
   "execution_count": 0,
   "metadata": {
    "application/vnd.databricks.v1+cell": {
     "cellMetadata": {},
     "inputWidgets": {},
     "nuid": "dc6c2e88-218d-4379-b90d-e043781a2576",
     "showTitle": false,
     "title": ""
    }
   },
   "outputs": [
    {
     "output_type": "display_data",
     "data": {
      "text/html": [
       "<style scoped>\n",
       "  .ansiout {\n",
       "    display: block;\n",
       "    unicode-bidi: embed;\n",
       "    white-space: pre-wrap;\n",
       "    word-wrap: break-word;\n",
       "    word-break: break-all;\n",
       "    font-family: \"Menlo\", \"Monaco\", \"Consolas\", \"Ubuntu Mono\", \"Source Code Pro\", monospace;\n",
       "    font-size: 13px;\n",
       "    color: #555;\n",
       "    margin-left: 4px;\n",
       "    line-height: 19px;\n",
       "  }\n",
       "</style>"
      ]
     },
     "metadata": {
      "application/vnd.databricks.v1+output": {
       "arguments": {},
       "data": "",
       "errorSummary": "Command skipped",
       "errorTraceType": "html",
       "metadata": {},
       "type": "ipynbError"
      }
     },
     "output_type": "display_data"
    }
   ],
   "source": [
    "mean_df = athl_df.select(\"Age\", \"Medal\").groupBy(\"Medal\").agg(avg(\"Age\").alias(\"Average Age\"))\n",
    "\n",
    "medal = athl_df[athl_df.Medal=='Gold'] \n",
    "medal = medal.toPandas()\n",
    "no_medal = athl_df[athl_df.Medal=='NO']\n",
    "no_medal = no_medal.toPandas()\n",
    "st = stats.ttest_ind(no_medal.Age,medal.Age,equal_var=False)\n",
    "print(st)"
   ]
  },
  {
   "cell_type": "markdown",
   "metadata": {
    "application/vnd.databricks.v1+cell": {
     "cellMetadata": {},
     "inputWidgets": {},
     "nuid": "1d97f09b-1b92-488f-a59d-83d357d630fa",
     "showTitle": false,
     "title": ""
    }
   },
   "source": [
    "### One-way ANOVA \n",
    "#### 4 \n",
    "Null Hypotesis: There is no significant difference between the means of the three diet groups when come to results after 6 weeks\n",
    "<br>\n",
    "Alternate Hypotesis: There is significant difference between the means of the three diet groups when come to results after 6 weeks\n",
    "<br>\n",
    "Output: pvalue = 0.003\n",
    "<br>\n",
    "Conclusion: pvalue is less than α = 0.05, we reject the null hypothesis of the ANOVA and conclude that there is a statistically significant difference between the means of three diet groups."
   ]
  },
  {
   "cell_type": "code",
   "execution_count": 0,
   "metadata": {
    "application/vnd.databricks.v1+cell": {
     "cellMetadata": {},
     "inputWidgets": {},
     "nuid": "bcbb590f-f142-4a03-934c-d26ebef8202d",
     "showTitle": false,
     "title": ""
    }
   },
   "outputs": [
    {
     "output_type": "display_data",
     "data": {
      "text/html": [
       "<style scoped>\n",
       "  .ansiout {\n",
       "    display: block;\n",
       "    unicode-bidi: embed;\n",
       "    white-space: pre-wrap;\n",
       "    word-wrap: break-word;\n",
       "    word-break: break-all;\n",
       "    font-family: \"Menlo\", \"Monaco\", \"Consolas\", \"Ubuntu Mono\", \"Source Code Pro\", monospace;\n",
       "    font-size: 13px;\n",
       "    color: #555;\n",
       "    margin-left: 4px;\n",
       "    line-height: 19px;\n",
       "  }\n",
       "</style>"
      ]
     },
     "metadata": {
      "application/vnd.databricks.v1+output": {
       "arguments": {},
       "data": "",
       "errorSummary": "Command skipped",
       "errorTraceType": "html",
       "metadata": {},
       "type": "ipynbError"
      }
     },
     "output_type": "display_data"
    }
   ],
   "source": [
    "diet_p = diet_df.select(\"Diet\", \"Difference\").toPandas()\n",
    "diet_groups = diet_p.groupby('Diet')\n",
    "a_diet = diet_groups.get_group('A')[\"Difference\"]\n",
    "b_diet = diet_groups.get_group('B')[\"Difference\"]\n",
    "c_diet = diet_groups.get_group('C')[\"Difference\"]\n",
    "\n",
    "anova = stats.f_oneway(a_diet, b_diet, c_diet)\n",
    "print(anova)"
   ]
  },
  {
   "cell_type": "markdown",
   "metadata": {
    "application/vnd.databricks.v1+cell": {
     "cellMetadata": {},
     "inputWidgets": {},
     "nuid": "cfcb8d80-a974-4d8e-a665-6f1c8dc84071",
     "showTitle": false,
     "title": ""
    }
   },
   "source": [
    "### One-way ANOVA\n",
    "#### 5\n",
    "Null Hypotesis: There is no significant difference between the means of the best three OI teams based on total won medals\n",
    "<br>\n",
    "Alternate Hypotesis: There is significant difference between the means of the best three OI teams based on won medals\n",
    "<br>\n",
    "Output: pvalue = 0.216\n",
    "<br>\n",
    "Conclusion: pvalue is greater than α = 0.05, we do not reject the null hypothesis of the ANOVA and conclude that there is NO statistically significant difference between the means of the best three OI teams."
   ]
  },
  {
   "cell_type": "code",
   "execution_count": 0,
   "metadata": {
    "application/vnd.databricks.v1+cell": {
     "cellMetadata": {},
     "inputWidgets": {},
     "nuid": "e8584f8a-6676-4b22-a53b-fc5454a3515e",
     "showTitle": false,
     "title": ""
    }
   },
   "outputs": [
    {
     "output_type": "display_data",
     "data": {
      "text/html": [
       "<style scoped>\n",
       "  .ansiout {\n",
       "    display: block;\n",
       "    unicode-bidi: embed;\n",
       "    white-space: pre-wrap;\n",
       "    word-wrap: break-word;\n",
       "    word-break: break-all;\n",
       "    font-family: \"Menlo\", \"Monaco\", \"Consolas\", \"Ubuntu Mono\", \"Source Code Pro\", monospace;\n",
       "    font-size: 13px;\n",
       "    color: #555;\n",
       "    margin-left: 4px;\n",
       "    line-height: 19px;\n",
       "  }\n",
       "</style>"
      ]
     },
     "metadata": {
      "application/vnd.databricks.v1+output": {
       "arguments": {},
       "data": "",
       "errorSummary": "Command skipped",
       "errorTraceType": "html",
       "metadata": {},
       "type": "ipynbError"
      }
     },
     "output_type": "display_data"
    }
   ],
   "source": [
    "oi_p = oi_df.select(\"NOC\", \"Total\", \"Games\").where((col(\"NOC\") == \"USA\") | (col(\"NOC\") == \"CHN\") | (col(\"NOC\") == \"RUS\")).toPandas()\n",
    "oi_groups = oi_p.groupby('NOC')\n",
    "usa = oi_groups.get_group('USA')[\"Total\"]\n",
    "chn = oi_groups.get_group('CHN')[\"Total\"]\n",
    "rus = oi_groups.get_group('RUS')[\"Total\"]\n",
    "\n",
    "anova_2 = stats.f_oneway(usa, chn, rus)\n",
    "print(anova_2)"
   ]
  },
  {
   "cell_type": "markdown",
   "metadata": {
    "application/vnd.databricks.v1+cell": {
     "cellMetadata": {},
     "inputWidgets": {},
     "nuid": "a9452d70-a648-4731-8a10-7c42087445d1",
     "showTitle": false,
     "title": ""
    }
   },
   "source": [
    "### One-way ANOVA\n",
    "#### 6\n",
    "Null Hypotesis: There is no significant difference between the means of number of gold, bronze and silver medals of USA OI team\n",
    "<br>\n",
    "Alternate Hypotesis: There is significant difference between the means of gold, bronze and silver medals of USA OI team\n",
    "<br>\n",
    "Output: pvalue = 0.135\n",
    "<br>\n",
    "Conclusion: pvalue is greater than α = 0.05, we do not reject the null hypothesis of the ANOVA and conclude that there is NO statistically significant difference between the means of number of gold, bronze and silver medals of USA OI team"
   ]
  },
  {
   "cell_type": "code",
   "execution_count": 0,
   "metadata": {
    "application/vnd.databricks.v1+cell": {
     "cellMetadata": {},
     "inputWidgets": {},
     "nuid": "f4102479-70d6-497c-96c0-0689ce625c61",
     "showTitle": false,
     "title": ""
    }
   },
   "outputs": [
    {
     "output_type": "display_data",
     "data": {
      "text/html": [
       "<style scoped>\n",
       "  .ansiout {\n",
       "    display: block;\n",
       "    unicode-bidi: embed;\n",
       "    white-space: pre-wrap;\n",
       "    word-wrap: break-word;\n",
       "    word-break: break-all;\n",
       "    font-family: \"Menlo\", \"Monaco\", \"Consolas\", \"Ubuntu Mono\", \"Source Code Pro\", monospace;\n",
       "    font-size: 13px;\n",
       "    color: #555;\n",
       "    margin-left: 4px;\n",
       "    line-height: 19px;\n",
       "  }\n",
       "</style>"
      ]
     },
     "metadata": {
      "application/vnd.databricks.v1+output": {
       "arguments": {},
       "data": "",
       "errorSummary": "Command skipped",
       "errorTraceType": "html",
       "metadata": {},
       "type": "ipynbError"
      }
     },
     "output_type": "display_data"
    }
   ],
   "source": [
    "oi_usa = oi_df.select(\"Bronze\", \"Gold\", \"Silver\").where(col(\"NOC\") == \"USA\").toPandas()\n",
    "\n",
    "anova_3 = stats.f_oneway(oi_usa.Bronze, oi_usa.Gold, oi_usa.Silver)\n",
    "print(anova_3)"
   ]
  },
  {
   "cell_type": "markdown",
   "metadata": {
    "application/vnd.databricks.v1+cell": {
     "cellMetadata": {},
     "inputWidgets": {},
     "nuid": "cdf62db3-ee4c-44cf-a630-b9804f44eae1",
     "showTitle": false,
     "title": ""
    }
   },
   "source": [
    "## 2.1 Structured streaming\n",
    "Since we just have a static set of files, we are going to emulate a stream from them by reading one file at a time, in the chronological order they were created.\n",
    "We are using rent data. We want to query count od houses and average rent price for different time when house was built. "
   ]
  },
  {
   "cell_type": "code",
   "execution_count": 0,
   "metadata": {
    "application/vnd.databricks.v1+cell": {
     "cellMetadata": {},
     "inputWidgets": {},
     "nuid": "ebe23938-500d-425b-972e-c5380064cf46",
     "showTitle": false,
     "title": ""
    }
   },
   "outputs": [
    {
     "output_type": "display_data",
     "data": {
      "text/html": [
       "<style scoped>\n",
       "  .ansiout {\n",
       "    display: block;\n",
       "    unicode-bidi: embed;\n",
       "    white-space: pre-wrap;\n",
       "    word-wrap: break-word;\n",
       "    word-break: break-all;\n",
       "    font-family: \"Menlo\", \"Monaco\", \"Consolas\", \"Ubuntu Mono\", \"Source Code Pro\", monospace;\n",
       "    font-size: 13px;\n",
       "    color: #555;\n",
       "    margin-left: 4px;\n",
       "    line-height: 19px;\n",
       "  }\n",
       "</style>"
      ]
     },
     "metadata": {
      "application/vnd.databricks.v1+output": {
       "arguments": {},
       "data": "",
       "errorSummary": "Command skipped",
       "errorTraceType": "html",
       "metadata": {},
       "type": "ipynbError"
      }
     },
     "output_type": "display_data"
    }
   ],
   "source": [
    "%fs ls \"dbfs:/FileStore/stream/\""
   ]
  },
  {
   "cell_type": "code",
   "execution_count": 0,
   "metadata": {
    "application/vnd.databricks.v1+cell": {
     "cellMetadata": {},
     "inputWidgets": {},
     "nuid": "49a228ae-9404-4d38-aca7-2d42fee773d7",
     "showTitle": false,
     "title": ""
    }
   },
   "outputs": [
    {
     "output_type": "display_data",
     "data": {
      "text/html": [
       "<style scoped>\n",
       "  .ansiout {\n",
       "    display: block;\n",
       "    unicode-bidi: embed;\n",
       "    white-space: pre-wrap;\n",
       "    word-wrap: break-word;\n",
       "    word-break: break-all;\n",
       "    font-family: \"Menlo\", \"Monaco\", \"Consolas\", \"Ubuntu Mono\", \"Source Code Pro\", monospace;\n",
       "    font-size: 13px;\n",
       "    color: #555;\n",
       "    margin-left: 4px;\n",
       "    line-height: 19px;\n",
       "  }\n",
       "</style>"
      ]
     },
     "metadata": {
      "application/vnd.databricks.v1+output": {
       "arguments": {},
       "data": "",
       "errorSummary": "Command skipped",
       "errorTraceType": "html",
       "metadata": {},
       "type": "ipynbError"
      }
     },
     "output_type": "display_data"
    }
   ],
   "source": [
    "input_path = \"dbfs:/FileStore/stream/\""
   ]
  },
  {
   "cell_type": "code",
   "execution_count": 0,
   "metadata": {
    "application/vnd.databricks.v1+cell": {
     "cellMetadata": {},
     "inputWidgets": {},
     "nuid": "c5ec2e31-b348-4b8b-bd50-01056ffd4f1a",
     "showTitle": false,
     "title": ""
    }
   },
   "outputs": [
    {
     "output_type": "display_data",
     "data": {
      "text/html": [
       "<style scoped>\n",
       "  .ansiout {\n",
       "    display: block;\n",
       "    unicode-bidi: embed;\n",
       "    white-space: pre-wrap;\n",
       "    word-wrap: break-word;\n",
       "    word-break: break-all;\n",
       "    font-family: \"Menlo\", \"Monaco\", \"Consolas\", \"Ubuntu Mono\", \"Source Code Pro\", monospace;\n",
       "    font-size: 13px;\n",
       "    color: #555;\n",
       "    margin-left: 4px;\n",
       "    line-height: 19px;\n",
       "  }\n",
       "</style>"
      ]
     },
     "metadata": {
      "application/vnd.databricks.v1+output": {
       "arguments": {},
       "data": "",
       "errorSummary": "Command skipped",
       "errorTraceType": "html",
       "metadata": {},
       "type": "ipynbError"
      }
     },
     "output_type": "display_data"
    }
   ],
   "source": [
    "df = spark.read.csv(\"dbfs:/FileStore/stream/part-00000-tid-1489551210369461886-d1a27393-c3ef-4215-be93-489aea772a25-14134-1-c000.csv\", header=True)\n",
    "display(df)\n",
    "schema = df.schema"
   ]
  },
  {
   "cell_type": "code",
   "execution_count": 0,
   "metadata": {
    "application/vnd.databricks.v1+cell": {
     "cellMetadata": {},
     "inputWidgets": {},
     "nuid": "1232a007-1753-4c3f-a8a1-dfef612543d9",
     "showTitle": false,
     "title": ""
    }
   },
   "outputs": [
    {
     "output_type": "display_data",
     "data": {
      "text/html": [
       "<style scoped>\n",
       "  .ansiout {\n",
       "    display: block;\n",
       "    unicode-bidi: embed;\n",
       "    white-space: pre-wrap;\n",
       "    word-wrap: break-word;\n",
       "    word-break: break-all;\n",
       "    font-family: \"Menlo\", \"Monaco\", \"Consolas\", \"Ubuntu Mono\", \"Source Code Pro\", monospace;\n",
       "    font-size: 13px;\n",
       "    color: #555;\n",
       "    margin-left: 4px;\n",
       "    line-height: 19px;\n",
       "  }\n",
       "</style>"
      ]
     },
     "metadata": {
      "application/vnd.databricks.v1+output": {
       "arguments": {},
       "data": "",
       "errorSummary": "Command skipped",
       "errorTraceType": "html",
       "metadata": {},
       "type": "ipynbError"
      }
     },
     "output_type": "display_data"
    }
   ],
   "source": [
    "streamingInputDF = (\n",
    "  spark\n",
    "    .readStream                       \n",
    "    .schema(schema)               \n",
    "    .option(\"maxFilesPerTrigger\", 1)  \n",
    "    .csv(input_path)\n",
    ")"
   ]
  },
  {
   "cell_type": "markdown",
   "metadata": {
    "application/vnd.databricks.v1+cell": {
     "cellMetadata": {},
     "inputWidgets": {},
     "nuid": "034b14ea-938b-4321-8b4b-81ca93cc2a28",
     "showTitle": false,
     "title": ""
    }
   },
   "source": [
    "As you we see, streamingCountsDF is a streaming Dataframe (streamingCountsDF.isStreaming was true). We can start streaming computation, by defining the sink and starting it. In our case, we want to interactively query the counts and average price"
   ]
  },
  {
   "cell_type": "code",
   "execution_count": 0,
   "metadata": {
    "application/vnd.databricks.v1+cell": {
     "cellMetadata": {},
     "inputWidgets": {},
     "nuid": "8f7f07ee-9d2a-41c9-996c-bee2e43bf405",
     "showTitle": false,
     "title": ""
    }
   },
   "outputs": [
    {
     "output_type": "display_data",
     "data": {
      "text/html": [
       "<style scoped>\n",
       "  .ansiout {\n",
       "    display: block;\n",
       "    unicode-bidi: embed;\n",
       "    white-space: pre-wrap;\n",
       "    word-wrap: break-word;\n",
       "    word-break: break-all;\n",
       "    font-family: \"Menlo\", \"Monaco\", \"Consolas\", \"Ubuntu Mono\", \"Source Code Pro\", monospace;\n",
       "    font-size: 13px;\n",
       "    color: #555;\n",
       "    margin-left: 4px;\n",
       "    line-height: 19px;\n",
       "  }\n",
       "</style>"
      ]
     },
     "metadata": {
      "application/vnd.databricks.v1+output": {
       "arguments": {},
       "data": "",
       "errorSummary": "Command skipped",
       "errorTraceType": "html",
       "metadata": {},
       "type": "ipynbError"
      }
     },
     "output_type": "display_data"
    }
   ],
   "source": [
    "streamingCountsDF = streamingInputDF.select(\"Price\", \"Old\").groupBy(streamingInputDF.Old).agg(sum(col(\"Price\")).alias(\"Price\"), count(\"*\").alias(\"count\")).orderBy(desc(\"count\"))\n",
    "\n",
    "streamingCountsDF.isStreaming"
   ]
  },
  {
   "cell_type": "code",
   "execution_count": 0,
   "metadata": {
    "application/vnd.databricks.v1+cell": {
     "cellMetadata": {},
     "inputWidgets": {},
     "nuid": "b95e91f8-9a0c-4bab-8b1f-d7b99e6911a1",
     "showTitle": false,
     "title": ""
    }
   },
   "outputs": [
    {
     "output_type": "display_data",
     "data": {
      "text/html": [
       "<style scoped>\n",
       "  .ansiout {\n",
       "    display: block;\n",
       "    unicode-bidi: embed;\n",
       "    white-space: pre-wrap;\n",
       "    word-wrap: break-word;\n",
       "    word-break: break-all;\n",
       "    font-family: \"Menlo\", \"Monaco\", \"Consolas\", \"Ubuntu Mono\", \"Source Code Pro\", monospace;\n",
       "    font-size: 13px;\n",
       "    color: #555;\n",
       "    margin-left: 4px;\n",
       "    line-height: 19px;\n",
       "  }\n",
       "</style>"
      ]
     },
     "metadata": {
      "application/vnd.databricks.v1+output": {
       "arguments": {},
       "data": "",
       "errorSummary": "Command skipped",
       "errorTraceType": "html",
       "metadata": {},
       "type": "ipynbError"
      }
     },
     "output_type": "display_data"
    }
   ],
   "source": [
    "query = (\n",
    "  streamingCountsDF\n",
    "    .writeStream\n",
    "    .format(\"memory\")        # memory = store in-memory table \n",
    "    .queryName(\"counts\")     # counts = name of the in-memory table\n",
    "    .outputMode(\"complete\")  # complete = all the counts should be in the table\n",
    "    .start()\n",
    ")"
   ]
  },
  {
   "cell_type": "code",
   "execution_count": 0,
   "metadata": {
    "application/vnd.databricks.v1+cell": {
     "cellMetadata": {},
     "inputWidgets": {},
     "nuid": "03ac39da-d6dc-48f9-a304-05311899e157",
     "showTitle": false,
     "title": ""
    }
   },
   "outputs": [
    {
     "output_type": "display_data",
     "data": {
      "text/html": [
       "<style scoped>\n",
       "  .ansiout {\n",
       "    display: block;\n",
       "    unicode-bidi: embed;\n",
       "    white-space: pre-wrap;\n",
       "    word-wrap: break-word;\n",
       "    word-break: break-all;\n",
       "    font-family: \"Menlo\", \"Monaco\", \"Consolas\", \"Ubuntu Mono\", \"Source Code Pro\", monospace;\n",
       "    font-size: 13px;\n",
       "    color: #555;\n",
       "    margin-left: 4px;\n",
       "    line-height: 19px;\n",
       "  }\n",
       "</style>"
      ]
     },
     "metadata": {
      "application/vnd.databricks.v1+output": {
       "arguments": {},
       "data": "",
       "errorSummary": "Command skipped",
       "errorTraceType": "html",
       "metadata": {},
       "type": "ipynbError"
      }
     },
     "output_type": "display_data"
    }
   ],
   "source": [
    "from time import sleep\n",
    "sleep(5)"
   ]
  },
  {
   "cell_type": "code",
   "execution_count": 0,
   "metadata": {
    "application/vnd.databricks.v1+cell": {
     "cellMetadata": {
      "implicitDf": true
     },
     "inputWidgets": {},
     "nuid": "d3cea804-4d9f-4328-8a34-6938320c2d11",
     "showTitle": false,
     "title": ""
    }
   },
   "outputs": [
    {
     "output_type": "display_data",
     "data": {
      "text/html": [
       "<style scoped>\n",
       "  .ansiout {\n",
       "    display: block;\n",
       "    unicode-bidi: embed;\n",
       "    white-space: pre-wrap;\n",
       "    word-wrap: break-word;\n",
       "    word-break: break-all;\n",
       "    font-family: \"Menlo\", \"Monaco\", \"Consolas\", \"Ubuntu Mono\", \"Source Code Pro\", monospace;\n",
       "    font-size: 13px;\n",
       "    color: #555;\n",
       "    margin-left: 4px;\n",
       "    line-height: 19px;\n",
       "  }\n",
       "</style>"
      ]
     },
     "metadata": {
      "application/vnd.databricks.v1+output": {
       "arguments": {},
       "data": "",
       "errorSummary": "Command skipped",
       "errorTraceType": "html",
       "metadata": {},
       "type": "ipynbError"
      }
     },
     "output_type": "display_data"
    }
   ],
   "source": [
    "%sql SELECT Old, count, round((Price/count), 2) as AvgPrice FROM counts"
   ]
  },
  {
   "cell_type": "markdown",
   "metadata": {
    "application/vnd.databricks.v1+cell": {
     "cellMetadata": {},
     "inputWidgets": {},
     "nuid": "0fc7e234-1907-4d4a-af72-a394378ebc79",
     "showTitle": false,
     "title": ""
    }
   },
   "source": [
    "Finally, we can stop the query running in the background, either by clicking on the 'Cancel' link in the cell of the query, or by executing query.stop()"
   ]
  },
  {
   "cell_type": "code",
   "execution_count": 0,
   "metadata": {
    "application/vnd.databricks.v1+cell": {
     "cellMetadata": {},
     "inputWidgets": {},
     "nuid": "cbf051a5-64bc-4097-b5a9-25af6757879c",
     "showTitle": false,
     "title": ""
    }
   },
   "outputs": [
    {
     "output_type": "display_data",
     "data": {
      "text/html": [
       "<style scoped>\n",
       "  .ansiout {\n",
       "    display: block;\n",
       "    unicode-bidi: embed;\n",
       "    white-space: pre-wrap;\n",
       "    word-wrap: break-word;\n",
       "    word-break: break-all;\n",
       "    font-family: \"Menlo\", \"Monaco\", \"Consolas\", \"Ubuntu Mono\", \"Source Code Pro\", monospace;\n",
       "    font-size: 13px;\n",
       "    color: #555;\n",
       "    margin-left: 4px;\n",
       "    line-height: 19px;\n",
       "  }\n",
       "</style>"
      ]
     },
     "metadata": {
      "application/vnd.databricks.v1+output": {
       "arguments": {},
       "data": "",
       "errorSummary": "Command skipped",
       "errorTraceType": "html",
       "metadata": {},
       "type": "ipynbError"
      }
     },
     "output_type": "display_data"
    }
   ],
   "source": [
    "query.stop()"
   ]
  }
 ],
 "metadata": {
  "application/vnd.databricks.v1+notebook": {
   "dashboards": [],
   "language": "python",
   "notebookMetadata": {
    "mostRecentlyExecutedCommandWithImplicitDF": {
     "commandId": 4115913350981415,
     "dataframes": [
      "_sqldf"
     ]
    },
    "pythonIndentUnit": 4
   },
   "notebookName": "Veliki_podaci_analiza",
   "widgets": {}
  }
 },
 "nbformat": 4,
 "nbformat_minor": 0
}
